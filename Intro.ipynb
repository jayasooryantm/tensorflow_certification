{
  "nbformat": 4,
  "nbformat_minor": 0,
  "metadata": {
    "colab": {
      "name": "Intro.ipynb",
      "provenance": [],
      "authorship_tag": "ABX9TyMkSD4ebLV0LXUTiBRz7x6u",
      "include_colab_link": true
    },
    "kernelspec": {
      "name": "python3",
      "display_name": "Python 3"
    },
    "language_info": {
      "name": "python"
    },
    "accelerator": "GPU"
  },
  "cells": [
    {
      "cell_type": "markdown",
      "metadata": {
        "id": "view-in-github",
        "colab_type": "text"
      },
      "source": [
        "<a href=\"https://colab.research.google.com/github/jayasooryantm/tensorflow_certification/blob/main/Intro.ipynb\" target=\"_parent\"><img src=\"https://colab.research.google.com/assets/colab-badge.svg\" alt=\"Open In Colab\"/></a>"
      ]
    },
    {
      "cell_type": "markdown",
      "source": [
        "# Funtamentals of Tensorflow\n",
        "\n",
        "* Intro to tensors\n",
        "* Getting info from tensors\n",
        "* Manipulating tensors\n",
        "* Tensors & NumPy\n",
        "* Using @tf.function (speed up the regular python functions)\n",
        "* Using GPUs/TPUs with tensorflow\n"
      ],
      "metadata": {
        "id": "fMETwNKgZ6MP"
      }
    },
    {
      "cell_type": "code",
      "source": [
        "import tensorflow as tf\n",
        "print(tf.__version__)"
      ],
      "metadata": {
        "colab": {
          "base_uri": "https://localhost:8080/"
        },
        "id": "Qm9exQ9DaZje",
        "outputId": "58510165-8152-4e18-fdcd-2a66b25a1482"
      },
      "execution_count": 1,
      "outputs": [
        {
          "output_type": "stream",
          "name": "stdout",
          "text": [
            "2.8.0\n"
          ]
        }
      ]
    },
    {
      "cell_type": "code",
      "source": [
        "scalar = tf.constant(7)\n",
        "scalar"
      ],
      "metadata": {
        "colab": {
          "base_uri": "https://localhost:8080/"
        },
        "id": "hiAFX14CamsQ",
        "outputId": "c42c68f1-5afd-4517-8d14-904837e4b4fd"
      },
      "execution_count": 2,
      "outputs": [
        {
          "output_type": "execute_result",
          "data": {
            "text/plain": [
              "<tf.Tensor: shape=(), dtype=int32, numpy=7>"
            ]
          },
          "metadata": {},
          "execution_count": 2
        }
      ]
    },
    {
      "cell_type": "code",
      "source": [
        "scalar.ndim"
      ],
      "metadata": {
        "colab": {
          "base_uri": "https://localhost:8080/"
        },
        "id": "BbIa2nFqa7Nv",
        "outputId": "2995be04-f0d2-4b85-98c0-c982ba2455a7"
      },
      "execution_count": 3,
      "outputs": [
        {
          "output_type": "execute_result",
          "data": {
            "text/plain": [
              "0"
            ]
          },
          "metadata": {},
          "execution_count": 3
        }
      ]
    },
    {
      "cell_type": "code",
      "source": [
        "vector = tf.constant([10, 10])\n",
        "vector"
      ],
      "metadata": {
        "colab": {
          "base_uri": "https://localhost:8080/"
        },
        "id": "-6gXJoFsb9ki",
        "outputId": "f6a2333c-1bc8-4d4c-aeb5-d81b11474cff"
      },
      "execution_count": 4,
      "outputs": [
        {
          "output_type": "execute_result",
          "data": {
            "text/plain": [
              "<tf.Tensor: shape=(2,), dtype=int32, numpy=array([10, 10], dtype=int32)>"
            ]
          },
          "metadata": {},
          "execution_count": 4
        }
      ]
    },
    {
      "cell_type": "code",
      "source": [
        "vector.ndim"
      ],
      "metadata": {
        "colab": {
          "base_uri": "https://localhost:8080/"
        },
        "id": "ZSAob8m9cEfu",
        "outputId": "4ef528ba-01f1-42cb-c20f-e866c6884f66"
      },
      "execution_count": 5,
      "outputs": [
        {
          "output_type": "execute_result",
          "data": {
            "text/plain": [
              "1"
            ]
          },
          "metadata": {},
          "execution_count": 5
        }
      ]
    },
    {
      "cell_type": "code",
      "source": [
        "matrix = tf.constant([[10, 7],\n",
        "                      [10, 7]])\n",
        "matrix"
      ],
      "metadata": {
        "colab": {
          "base_uri": "https://localhost:8080/"
        },
        "id": "ZBw2saaNcKOa",
        "outputId": "1cd6a646-4576-4e18-fe4d-8bb9b8c7fe8d"
      },
      "execution_count": 6,
      "outputs": [
        {
          "output_type": "execute_result",
          "data": {
            "text/plain": [
              "<tf.Tensor: shape=(2, 2), dtype=int32, numpy=\n",
              "array([[10,  7],\n",
              "       [10,  7]], dtype=int32)>"
            ]
          },
          "metadata": {},
          "execution_count": 6
        }
      ]
    },
    {
      "cell_type": "code",
      "source": [
        "matrix.ndim"
      ],
      "metadata": {
        "colab": {
          "base_uri": "https://localhost:8080/"
        },
        "id": "RcPv2oXNcR97",
        "outputId": "7c72674e-1777-4b89-e176-355225843e47"
      },
      "execution_count": 7,
      "outputs": [
        {
          "output_type": "execute_result",
          "data": {
            "text/plain": [
              "2"
            ]
          },
          "metadata": {},
          "execution_count": 7
        }
      ]
    },
    {
      "cell_type": "code",
      "source": [
        "another_matrix = tf.constant([[10., 10.],\n",
        "                             [5., 5.]], \n",
        "                             dtype=tf.float16)\n",
        "another_matrix"
      ],
      "metadata": {
        "colab": {
          "base_uri": "https://localhost:8080/"
        },
        "id": "6VQjLbCvcTYE",
        "outputId": "0e372463-f69e-40a5-fcb1-12c70e97a356"
      },
      "execution_count": 8,
      "outputs": [
        {
          "output_type": "execute_result",
          "data": {
            "text/plain": [
              "<tf.Tensor: shape=(2, 2), dtype=float16, numpy=\n",
              "array([[10., 10.],\n",
              "       [ 5.,  5.]], dtype=float16)>"
            ]
          },
          "metadata": {},
          "execution_count": 8
        }
      ]
    },
    {
      "cell_type": "code",
      "source": [
        "another_matrix.ndim"
      ],
      "metadata": {
        "colab": {
          "base_uri": "https://localhost:8080/"
        },
        "id": "pdShitzbcpSI",
        "outputId": "7bb6c713-a60e-4b31-e06e-abaf1741380a"
      },
      "execution_count": 9,
      "outputs": [
        {
          "output_type": "execute_result",
          "data": {
            "text/plain": [
              "2"
            ]
          },
          "metadata": {},
          "execution_count": 9
        }
      ]
    },
    {
      "cell_type": "code",
      "source": [
        "tensor = tf.constant([[[1, 2, 4],\n",
        "                       [1, 2, 3]],\n",
        "                     [[1, 2, 3],\n",
        "                      [1, 2, 3]],\n",
        "                      [[1, 2, 3],\n",
        "                       [1, 2, 3]]], dtype=tf.float32)\n",
        "tensor"
      ],
      "metadata": {
        "colab": {
          "base_uri": "https://localhost:8080/"
        },
        "id": "HyTCIJgtcvtu",
        "outputId": "ee2e4d0a-1069-4087-c379-c3351bacdadc"
      },
      "execution_count": 10,
      "outputs": [
        {
          "output_type": "execute_result",
          "data": {
            "text/plain": [
              "<tf.Tensor: shape=(3, 2, 3), dtype=float32, numpy=\n",
              "array([[[1., 2., 4.],\n",
              "        [1., 2., 3.]],\n",
              "\n",
              "       [[1., 2., 3.],\n",
              "        [1., 2., 3.]],\n",
              "\n",
              "       [[1., 2., 3.],\n",
              "        [1., 2., 3.]]], dtype=float32)>"
            ]
          },
          "metadata": {},
          "execution_count": 10
        }
      ]
    },
    {
      "cell_type": "code",
      "source": [
        "tensor.ndim"
      ],
      "metadata": {
        "colab": {
          "base_uri": "https://localhost:8080/"
        },
        "id": "3GQMza_OdUPL",
        "outputId": "f1f0ff8e-bc24-43ae-ff04-0090d7aa5716"
      },
      "execution_count": 11,
      "outputs": [
        {
          "output_type": "execute_result",
          "data": {
            "text/plain": [
              "3"
            ]
          },
          "metadata": {},
          "execution_count": 11
        }
      ]
    },
    {
      "cell_type": "markdown",
      "source": [
        "### Creating tensors with tf.Variable"
      ],
      "metadata": {
        "id": "Tz6YXSJHfxyd"
      }
    },
    {
      "cell_type": "code",
      "source": [
        "var = tf.Variable([10, 10])\n",
        "const = tf.constant([10 , 10])"
      ],
      "metadata": {
        "id": "GN_-KHq-ddo3"
      },
      "execution_count": 12,
      "outputs": []
    },
    {
      "cell_type": "code",
      "source": [
        "var, const"
      ],
      "metadata": {
        "colab": {
          "base_uri": "https://localhost:8080/"
        },
        "id": "tPOFVA1ngJiT",
        "outputId": "a6037d48-b4ef-498c-e1a2-36f94cfd3a5e"
      },
      "execution_count": 13,
      "outputs": [
        {
          "output_type": "execute_result",
          "data": {
            "text/plain": [
              "(<tf.Variable 'Variable:0' shape=(2,) dtype=int32, numpy=array([10, 10], dtype=int32)>,\n",
              " <tf.Tensor: shape=(2,), dtype=int32, numpy=array([10, 10], dtype=int32)>)"
            ]
          },
          "metadata": {},
          "execution_count": 13
        }
      ]
    },
    {
      "cell_type": "code",
      "source": [
        "#changing one of the element in var\n",
        "var[0].assign(5)"
      ],
      "metadata": {
        "colab": {
          "base_uri": "https://localhost:8080/"
        },
        "id": "1uPdzaFYgKzp",
        "outputId": "60fb27d3-2700-4a0c-b0ab-37ffbc93308b"
      },
      "execution_count": 14,
      "outputs": [
        {
          "output_type": "execute_result",
          "data": {
            "text/plain": [
              "<tf.Variable 'UnreadVariable' shape=(2,) dtype=int32, numpy=array([ 5, 10], dtype=int32)>"
            ]
          },
          "metadata": {},
          "execution_count": 14
        }
      ]
    },
    {
      "cell_type": "code",
      "source": [
        "#Wont' work, because there is no function called assign in constant.\n",
        "#-- const[0].assign(5)"
      ],
      "metadata": {
        "id": "4FJPDLzHgb5q"
      },
      "execution_count": 15,
      "outputs": []
    },
    {
      "cell_type": "markdown",
      "source": [
        "### Creating random tensors with tensorflow"
      ],
      "metadata": {
        "id": "mawmYbW8g0xX"
      }
    },
    {
      "cell_type": "code",
      "source": [
        "random_1 = tf.random.Generator.from_seed(42)\n",
        "random_1 = random_1.normal(shape=(3, 2))\n",
        "random_1"
      ],
      "metadata": {
        "colab": {
          "base_uri": "https://localhost:8080/"
        },
        "id": "htLXkQ8pgdFN",
        "outputId": "5054579a-7ae8-4e8c-b168-cf1ffe5a0726"
      },
      "execution_count": 16,
      "outputs": [
        {
          "output_type": "execute_result",
          "data": {
            "text/plain": [
              "<tf.Tensor: shape=(3, 2), dtype=float32, numpy=\n",
              "array([[-0.7565803 , -0.06854702],\n",
              "       [ 0.07595026, -1.2573844 ],\n",
              "       [-0.23193765, -1.8107855 ]], dtype=float32)>"
            ]
          },
          "metadata": {},
          "execution_count": 16
        }
      ]
    },
    {
      "cell_type": "markdown",
      "source": [
        "### Shuffle the order in a tensor"
      ],
      "metadata": {
        "id": "iubOv-19iuGz"
      }
    },
    {
      "cell_type": "code",
      "source": [
        "tf.random.shuffle(random_1)"
      ],
      "metadata": {
        "id": "19vIgIFWhqmV",
        "outputId": "370d35d9-1796-4c7c-ad0c-c7db15a6678b",
        "colab": {
          "base_uri": "https://localhost:8080/"
        }
      },
      "execution_count": 17,
      "outputs": [
        {
          "output_type": "execute_result",
          "data": {
            "text/plain": [
              "<tf.Tensor: shape=(3, 2), dtype=float32, numpy=\n",
              "array([[-0.7565803 , -0.06854702],\n",
              "       [-0.23193765, -1.8107855 ],\n",
              "       [ 0.07595026, -1.2573844 ]], dtype=float32)>"
            ]
          },
          "metadata": {},
          "execution_count": 17
        }
      ]
    },
    {
      "cell_type": "markdown",
      "source": [
        "### Other ways to create tensors"
      ],
      "metadata": {
        "id": "7Yv81_7A19IV"
      }
    },
    {
      "cell_type": "code",
      "source": [
        "tf.ones([10, 8])"
      ],
      "metadata": {
        "id": "MYIMD5cd0bAc",
        "outputId": "205cbba5-37d7-4956-fd24-a80a6430cc50",
        "colab": {
          "base_uri": "https://localhost:8080/"
        }
      },
      "execution_count": 18,
      "outputs": [
        {
          "output_type": "execute_result",
          "data": {
            "text/plain": [
              "<tf.Tensor: shape=(10, 8), dtype=float32, numpy=\n",
              "array([[1., 1., 1., 1., 1., 1., 1., 1.],\n",
              "       [1., 1., 1., 1., 1., 1., 1., 1.],\n",
              "       [1., 1., 1., 1., 1., 1., 1., 1.],\n",
              "       [1., 1., 1., 1., 1., 1., 1., 1.],\n",
              "       [1., 1., 1., 1., 1., 1., 1., 1.],\n",
              "       [1., 1., 1., 1., 1., 1., 1., 1.],\n",
              "       [1., 1., 1., 1., 1., 1., 1., 1.],\n",
              "       [1., 1., 1., 1., 1., 1., 1., 1.],\n",
              "       [1., 1., 1., 1., 1., 1., 1., 1.],\n",
              "       [1., 1., 1., 1., 1., 1., 1., 1.]], dtype=float32)>"
            ]
          },
          "metadata": {},
          "execution_count": 18
        }
      ]
    },
    {
      "cell_type": "code",
      "source": [
        "tf.zeros([10, 9])"
      ],
      "metadata": {
        "id": "CUgX5LYX2Dgy",
        "outputId": "2a461ea9-4201-4f88-bd1d-32ee7a5a272d",
        "colab": {
          "base_uri": "https://localhost:8080/"
        }
      },
      "execution_count": 19,
      "outputs": [
        {
          "output_type": "execute_result",
          "data": {
            "text/plain": [
              "<tf.Tensor: shape=(10, 9), dtype=float32, numpy=\n",
              "array([[0., 0., 0., 0., 0., 0., 0., 0., 0.],\n",
              "       [0., 0., 0., 0., 0., 0., 0., 0., 0.],\n",
              "       [0., 0., 0., 0., 0., 0., 0., 0., 0.],\n",
              "       [0., 0., 0., 0., 0., 0., 0., 0., 0.],\n",
              "       [0., 0., 0., 0., 0., 0., 0., 0., 0.],\n",
              "       [0., 0., 0., 0., 0., 0., 0., 0., 0.],\n",
              "       [0., 0., 0., 0., 0., 0., 0., 0., 0.],\n",
              "       [0., 0., 0., 0., 0., 0., 0., 0., 0.],\n",
              "       [0., 0., 0., 0., 0., 0., 0., 0., 0.],\n",
              "       [0., 0., 0., 0., 0., 0., 0., 0., 0.]], dtype=float32)>"
            ]
          },
          "metadata": {},
          "execution_count": 19
        }
      ]
    },
    {
      "cell_type": "code",
      "source": [
        "import numpy as np\n",
        "numpy_array = np.arange(1, 25, dtype=np.int32)"
      ],
      "metadata": {
        "id": "ClA0u2Bx2Fcs"
      },
      "execution_count": 20,
      "outputs": []
    },
    {
      "cell_type": "code",
      "source": [
        "numpy_array"
      ],
      "metadata": {
        "id": "PKa6plRA2fbZ",
        "outputId": "8827cdbc-1fb5-46d9-ff5f-ffeb6197d40e",
        "colab": {
          "base_uri": "https://localhost:8080/"
        }
      },
      "execution_count": 21,
      "outputs": [
        {
          "output_type": "execute_result",
          "data": {
            "text/plain": [
              "array([ 1,  2,  3,  4,  5,  6,  7,  8,  9, 10, 11, 12, 13, 14, 15, 16, 17,\n",
              "       18, 19, 20, 21, 22, 23, 24], dtype=int32)"
            ]
          },
          "metadata": {},
          "execution_count": 21
        }
      ]
    },
    {
      "cell_type": "code",
      "source": [
        "tf.constant(numpy_array, shape=(2, 3, 4))"
      ],
      "metadata": {
        "id": "g073TxUr2whp",
        "outputId": "00d4e1e5-c69e-4683-c33b-e740dcccc0a2",
        "colab": {
          "base_uri": "https://localhost:8080/"
        }
      },
      "execution_count": 22,
      "outputs": [
        {
          "output_type": "execute_result",
          "data": {
            "text/plain": [
              "<tf.Tensor: shape=(2, 3, 4), dtype=int32, numpy=\n",
              "array([[[ 1,  2,  3,  4],\n",
              "        [ 5,  6,  7,  8],\n",
              "        [ 9, 10, 11, 12]],\n",
              "\n",
              "       [[13, 14, 15, 16],\n",
              "        [17, 18, 19, 20],\n",
              "        [21, 22, 23, 24]]], dtype=int32)>"
            ]
          },
          "metadata": {},
          "execution_count": 22
        }
      ]
    },
    {
      "cell_type": "markdown",
      "source": [
        "## Getting info from tensors"
      ],
      "metadata": {
        "id": "cIT1Mbps2_qr"
      }
    },
    {
      "cell_type": "code",
      "source": [
        "#Matrix multiplication\n",
        "tensorOne = tf.random.normal((5, 6))\n",
        "tensorTwo = tf.random.normal((6, 5))"
      ],
      "metadata": {
        "id": "UCB0NXzV24A1"
      },
      "execution_count": 23,
      "outputs": []
    },
    {
      "cell_type": "code",
      "source": [
        "%%timeit\n",
        "tf_method = tf.matmul(tensorOne, tensorTwo)"
      ],
      "metadata": {
        "id": "9-gOdU4UyZ1U",
        "outputId": "457bbf0c-982e-408e-8440-2566087a920e",
        "colab": {
          "base_uri": "https://localhost:8080/"
        }
      },
      "execution_count": 24,
      "outputs": [
        {
          "output_type": "stream",
          "name": "stdout",
          "text": [
            "The slowest run took 16993.05 times longer than the fastest. This could mean that an intermediate result is being cached.\n",
            "1 loop, best of 5: 89.1 µs per loop\n"
          ]
        }
      ]
    },
    {
      "cell_type": "code",
      "source": [
        "%%timeit\n",
        "py_method = tensorOne @ tensorTwo"
      ],
      "metadata": {
        "id": "zJnzdn5KxyS3",
        "outputId": "efa5085e-dfdb-4f12-84cb-3c203061f731",
        "colab": {
          "base_uri": "https://localhost:8080/"
        }
      },
      "execution_count": 25,
      "outputs": [
        {
          "output_type": "stream",
          "name": "stdout",
          "text": [
            "10000 loops, best of 5: 102 µs per loop\n"
          ]
        }
      ]
    },
    {
      "cell_type": "code",
      "source": [
        "tf.tensordot(tensorOne, tensorTwo, 1)"
      ],
      "metadata": {
        "id": "XjwjDsknyV26",
        "outputId": "388d88bc-120d-4ef6-9bde-b7e8d44dd3ad",
        "colab": {
          "base_uri": "https://localhost:8080/"
        }
      },
      "execution_count": 26,
      "outputs": [
        {
          "output_type": "execute_result",
          "data": {
            "text/plain": [
              "<tf.Tensor: shape=(5, 5), dtype=float32, numpy=\n",
              "array([[-0.26536092,  0.04108912,  0.86562383,  0.6509414 , -0.65473235],\n",
              "       [ 1.2593392 ,  2.594152  ,  5.979897  ,  4.9296    , -3.7130704 ],\n",
              "       [ 2.175611  , -0.7438742 , -1.7437255 , -0.1827892 , -0.9847698 ],\n",
              "       [-5.411737  ,  0.08436865,  0.5234587 , -4.2446995 ,  3.685472  ],\n",
              "       [-3.717807  ,  0.88280684,  0.17071365, -3.3024282 ,  4.268225  ]],\n",
              "      dtype=float32)>"
            ]
          },
          "metadata": {},
          "execution_count": 26
        }
      ]
    },
    {
      "cell_type": "markdown",
      "source": [
        "### Changing the tensor datatypes"
      ],
      "metadata": {
        "id": "0PnnuQkY2vcD"
      }
    },
    {
      "cell_type": "code",
      "source": [
        "float32_type = tf.constant(tf.random.normal((50000, 600)))"
      ],
      "metadata": {
        "id": "_ymK2ut31iVV"
      },
      "execution_count": 27,
      "outputs": []
    },
    {
      "cell_type": "code",
      "source": [
        "float16_type = tf.cast(float32_type, dtype= tf.float16)"
      ],
      "metadata": {
        "id": "YDykFPnh3wwC"
      },
      "execution_count": 28,
      "outputs": []
    },
    {
      "cell_type": "code",
      "source": [
        "import sys\n",
        "sys.getsizeof(float32_type), sys.getsizeof(float16_type)"
      ],
      "metadata": {
        "id": "BsMeEJjX4EgX",
        "outputId": "22e421e6-eff3-49f8-f57f-4578e7836a24",
        "colab": {
          "base_uri": "https://localhost:8080/"
        }
      },
      "execution_count": 29,
      "outputs": [
        {
          "output_type": "execute_result",
          "data": {
            "text/plain": [
              "(184, 184)"
            ]
          },
          "metadata": {},
          "execution_count": 29
        }
      ]
    },
    {
      "cell_type": "markdown",
      "source": [
        "### Aggregating tensors"
      ],
      "metadata": {
        "id": "RLUt1XEE5osZ"
      }
    },
    {
      "cell_type": "code",
      "source": [
        "tensor = np.random.randn(100) "
      ],
      "metadata": {
        "id": "1yBUqCc14JKy"
      },
      "execution_count": 30,
      "outputs": []
    },
    {
      "cell_type": "code",
      "source": [
        "tensor"
      ],
      "metadata": {
        "id": "cSLdCMfp6RHX",
        "outputId": "abc50ca9-604d-4156-8156-4643d8ad8bd8",
        "colab": {
          "base_uri": "https://localhost:8080/"
        }
      },
      "execution_count": 31,
      "outputs": [
        {
          "output_type": "execute_result",
          "data": {
            "text/plain": [
              "array([ 3.89725702e-01, -1.54510144e+00, -1.62734709e+00,  1.24879761e-01,\n",
              "       -1.22196905e+00,  9.66991293e-01,  1.73822266e-01,  9.27201793e-02,\n",
              "        1.60503792e+00, -1.55381127e+00, -1.65284929e+00,  1.03662909e+00,\n",
              "       -8.90987238e-01,  8.95944289e-01,  1.42784484e+00,  7.38506063e-01,\n",
              "        7.85271163e-01,  1.32875543e+00, -4.07127026e-01,  3.09295950e-01,\n",
              "        2.00811285e+00,  6.50243677e-01,  5.89283001e-01,  9.10689292e-01,\n",
              "        1.05248022e+00,  3.75846385e-01, -6.46634676e-01, -1.90747384e-01,\n",
              "        5.59595905e-01,  1.00206041e+00,  1.59088211e+00,  8.49070031e-01,\n",
              "        2.01902504e-01, -4.63674717e-02,  3.15862758e-01,  7.51936839e-01,\n",
              "       -7.85326807e-01,  1.78405215e+00, -1.26355403e+00, -6.51397876e-01,\n",
              "       -3.51426232e-01, -7.53698287e-01,  9.89300624e-01, -1.03782561e+00,\n",
              "        1.14227445e+00, -8.92325529e-01,  8.82499977e-01, -7.36139640e-01,\n",
              "       -3.45236538e-01,  1.10937050e+00, -2.09599083e+00,  2.33212355e+00,\n",
              "       -6.21342533e-01,  2.92105106e-02, -1.30869089e-01,  6.25407022e-01,\n",
              "        6.53248152e-01, -2.96446605e-01, -1.59114675e-01,  1.23248879e+00,\n",
              "        4.16795176e-01,  5.10594573e-01,  5.38761647e-01, -7.03068163e-01,\n",
              "        1.66826251e+00,  7.89055612e-01, -5.32508956e-01,  1.51446221e-02,\n",
              "        5.74336525e-01,  1.39069647e+00,  9.02555440e-01,  5.38265928e-01,\n",
              "        1.94414245e-02,  2.65766076e+00,  2.25480347e+00, -1.36522648e+00,\n",
              "       -6.13628283e-02, -7.07144416e-01, -3.22017157e-01,  2.03350333e-01,\n",
              "        2.56087754e+00, -6.52490260e-01, -5.83793014e-01, -1.93413812e+00,\n",
              "       -5.90906785e-01,  4.27067721e-01,  1.17177605e+00,  2.19846134e-03,\n",
              "       -2.46864633e+00,  6.94204997e-01,  2.45527266e-01,  1.68680121e+00,\n",
              "        5.84410110e-01, -1.19522680e+00,  6.71748312e-01, -5.33609977e-01,\n",
              "       -6.80588856e-02,  1.90750452e-02,  8.76462957e-01, -6.13302120e-01])"
            ]
          },
          "metadata": {},
          "execution_count": 31
        }
      ]
    },
    {
      "cell_type": "code",
      "source": [
        "tf.reduce_min(tensor)"
      ],
      "metadata": {
        "id": "dQ924A8F6cQv",
        "outputId": "63e8aebd-c839-419f-b186-16cd258b6b6e",
        "colab": {
          "base_uri": "https://localhost:8080/"
        }
      },
      "execution_count": 32,
      "outputs": [
        {
          "output_type": "execute_result",
          "data": {
            "text/plain": [
              "<tf.Tensor: shape=(), dtype=float64, numpy=-2.4686463252635504>"
            ]
          },
          "metadata": {},
          "execution_count": 32
        }
      ]
    },
    {
      "cell_type": "code",
      "source": [
        "tf.reduce_max(tensor)"
      ],
      "metadata": {
        "id": "_fqI2FWB6is5",
        "outputId": "584f8c6a-9c70-4487-be47-a6bfe056d1bd",
        "colab": {
          "base_uri": "https://localhost:8080/"
        }
      },
      "execution_count": 33,
      "outputs": [
        {
          "output_type": "execute_result",
          "data": {
            "text/plain": [
              "<tf.Tensor: shape=(), dtype=float64, numpy=2.6576607593352457>"
            ]
          },
          "metadata": {},
          "execution_count": 33
        }
      ]
    },
    {
      "cell_type": "code",
      "source": [
        "tf.reduce_sum(tensor)"
      ],
      "metadata": {
        "id": "qIXz41cu6oeB",
        "outputId": "04895ee8-393c-40b7-fda2-c39af98b4db6",
        "colab": {
          "base_uri": "https://localhost:8080/"
        }
      },
      "execution_count": 34,
      "outputs": [
        {
          "output_type": "execute_result",
          "data": {
            "text/plain": [
              "<tf.Tensor: shape=(), dtype=float64, numpy=20.69810330872474>"
            ]
          },
          "metadata": {},
          "execution_count": 34
        }
      ]
    },
    {
      "cell_type": "code",
      "source": [
        "tf.reduce_mean(tensor)"
      ],
      "metadata": {
        "id": "ZM83nLlM6qpw",
        "outputId": "6d3e88aa-6def-4813-9aa3-5182ad9a57a4",
        "colab": {
          "base_uri": "https://localhost:8080/"
        }
      },
      "execution_count": 35,
      "outputs": [
        {
          "output_type": "execute_result",
          "data": {
            "text/plain": [
              "<tf.Tensor: shape=(), dtype=float64, numpy=0.20698103308724738>"
            ]
          },
          "metadata": {},
          "execution_count": 35
        }
      ]
    },
    {
      "cell_type": "markdown",
      "source": [
        "### Sqeezing a tensor (removing the single dimensions)"
      ],
      "metadata": {
        "id": "XwQvKdB8ARuW"
      }
    },
    {
      "cell_type": "code",
      "source": [
        "tf.random.set_seed(0)\n",
        "data = tf.constant(tf.random.uniform(shape=[50]), shape=(1, 1, 1, 1, 50))\n",
        "data"
      ],
      "metadata": {
        "id": "WmxcEpBi6tfh",
        "outputId": "de1617b4-f995-4188-ad88-8d7c9a2cb50d",
        "colab": {
          "base_uri": "https://localhost:8080/"
        }
      },
      "execution_count": 36,
      "outputs": [
        {
          "output_type": "execute_result",
          "data": {
            "text/plain": [
              "<tf.Tensor: shape=(1, 1, 1, 1, 50), dtype=float32, numpy=\n",
              "array([[[[[0.29197514, 0.20656645, 0.53539073, 0.5612575 , 0.4166745 ,\n",
              "           0.80782795, 0.4932251 , 0.99812925, 0.69673514, 0.1253736 ,\n",
              "           0.7098167 , 0.6624156 , 0.57225657, 0.36475348, 0.42051828,\n",
              "           0.630057  , 0.913813  , 0.6616472 , 0.83347356, 0.08395803,\n",
              "           0.2797594 , 0.0155232 , 0.72637355, 0.7655387 , 0.6798667 ,\n",
              "           0.53272796, 0.7565141 , 0.04742193, 0.05037141, 0.75174344,\n",
              "           0.1727128 , 0.3119352 , 0.29137385, 0.10051239, 0.16567075,\n",
              "           0.7696651 , 0.58567977, 0.98200965, 0.9148327 , 0.14166534,\n",
              "           0.09756553, 0.6062784 , 0.17792177, 0.518052  , 0.9821211 ,\n",
              "           0.17577946, 0.04563165, 0.59754145, 0.5629543 , 0.80507433]]]]],\n",
              "      dtype=float32)>"
            ]
          },
          "metadata": {},
          "execution_count": 36
        }
      ]
    },
    {
      "cell_type": "code",
      "source": [
        "data.shape"
      ],
      "metadata": {
        "id": "SKBTovdSAoAf",
        "outputId": "d09022f5-588c-4642-958e-2b2061e285dc",
        "colab": {
          "base_uri": "https://localhost:8080/"
        }
      },
      "execution_count": 37,
      "outputs": [
        {
          "output_type": "execute_result",
          "data": {
            "text/plain": [
              "TensorShape([1, 1, 1, 1, 50])"
            ]
          },
          "metadata": {},
          "execution_count": 37
        }
      ]
    },
    {
      "cell_type": "code",
      "source": [
        "data_squeezed = tf.squeeze(data)\n",
        "data_squeezed"
      ],
      "metadata": {
        "id": "DG6eaLrzAxYu",
        "outputId": "90157e97-ec9a-465a-9baf-658bdb569ebb",
        "colab": {
          "base_uri": "https://localhost:8080/"
        }
      },
      "execution_count": 38,
      "outputs": [
        {
          "output_type": "execute_result",
          "data": {
            "text/plain": [
              "<tf.Tensor: shape=(50,), dtype=float32, numpy=\n",
              "array([0.29197514, 0.20656645, 0.53539073, 0.5612575 , 0.4166745 ,\n",
              "       0.80782795, 0.4932251 , 0.99812925, 0.69673514, 0.1253736 ,\n",
              "       0.7098167 , 0.6624156 , 0.57225657, 0.36475348, 0.42051828,\n",
              "       0.630057  , 0.913813  , 0.6616472 , 0.83347356, 0.08395803,\n",
              "       0.2797594 , 0.0155232 , 0.72637355, 0.7655387 , 0.6798667 ,\n",
              "       0.53272796, 0.7565141 , 0.04742193, 0.05037141, 0.75174344,\n",
              "       0.1727128 , 0.3119352 , 0.29137385, 0.10051239, 0.16567075,\n",
              "       0.7696651 , 0.58567977, 0.98200965, 0.9148327 , 0.14166534,\n",
              "       0.09756553, 0.6062784 , 0.17792177, 0.518052  , 0.9821211 ,\n",
              "       0.17577946, 0.04563165, 0.59754145, 0.5629543 , 0.80507433],\n",
              "      dtype=float32)>"
            ]
          },
          "metadata": {},
          "execution_count": 38
        }
      ]
    },
    {
      "cell_type": "code",
      "source": [
        "rand_list = [0, 1, 0, 3]\n",
        "\n",
        "tf.one_hot(rand_list, 4)"
      ],
      "metadata": {
        "id": "9j7-ZdrXA4nR",
        "outputId": "a8c4c8fd-4095-4da8-908e-1280a9bd61c1",
        "colab": {
          "base_uri": "https://localhost:8080/"
        }
      },
      "execution_count": 39,
      "outputs": [
        {
          "output_type": "execute_result",
          "data": {
            "text/plain": [
              "<tf.Tensor: shape=(4, 4), dtype=float32, numpy=\n",
              "array([[1., 0., 0., 0.],\n",
              "       [0., 1., 0., 0.],\n",
              "       [1., 0., 0., 0.],\n",
              "       [0., 0., 0., 1.]], dtype=float32)>"
            ]
          },
          "metadata": {},
          "execution_count": 39
        }
      ]
    },
    {
      "cell_type": "code",
      "source": [
        "tf.config.list_physical_devices()"
      ],
      "metadata": {
        "id": "35Ig4eqfBMdv",
        "outputId": "f18d7682-dc83-4525-ce3e-7e59d9409bd3",
        "colab": {
          "base_uri": "https://localhost:8080/"
        }
      },
      "execution_count": 40,
      "outputs": [
        {
          "output_type": "execute_result",
          "data": {
            "text/plain": [
              "[PhysicalDevice(name='/physical_device:CPU:0', device_type='CPU'),\n",
              " PhysicalDevice(name='/physical_device:GPU:0', device_type='GPU')]"
            ]
          },
          "metadata": {},
          "execution_count": 40
        }
      ]
    },
    {
      "cell_type": "code",
      "source": [
        "!nvidia-smi"
      ],
      "metadata": {
        "id": "SIF-ZeWBD5Yu",
        "outputId": "fc1ef77e-52fa-4c07-fac6-04d44228750a",
        "colab": {
          "base_uri": "https://localhost:8080/"
        }
      },
      "execution_count": 42,
      "outputs": [
        {
          "output_type": "stream",
          "name": "stdout",
          "text": [
            "Thu Feb 17 14:23:46 2022       \n",
            "+-----------------------------------------------------------------------------+\n",
            "| NVIDIA-SMI 460.32.03    Driver Version: 460.32.03    CUDA Version: 11.2     |\n",
            "|-------------------------------+----------------------+----------------------+\n",
            "| GPU  Name        Persistence-M| Bus-Id        Disp.A | Volatile Uncorr. ECC |\n",
            "| Fan  Temp  Perf  Pwr:Usage/Cap|         Memory-Usage | GPU-Util  Compute M. |\n",
            "|                               |                      |               MIG M. |\n",
            "|===============================+======================+======================|\n",
            "|   0  Tesla K80           Off  | 00000000:00:04.0 Off |                    0 |\n",
            "| N/A   49C    P0    63W / 149W |    707MiB / 11441MiB |      0%      Default |\n",
            "|                               |                      |                  N/A |\n",
            "+-------------------------------+----------------------+----------------------+\n",
            "                                                                               \n",
            "+-----------------------------------------------------------------------------+\n",
            "| Processes:                                                                  |\n",
            "|  GPU   GI   CI        PID   Type   Process name                  GPU Memory |\n",
            "|        ID   ID                                                   Usage      |\n",
            "|=============================================================================|\n",
            "+-----------------------------------------------------------------------------+\n"
          ]
        }
      ]
    },
    {
      "cell_type": "code",
      "source": [
        ""
      ],
      "metadata": {
        "id": "rgTBBTYLESpd"
      },
      "execution_count": null,
      "outputs": []
    }
  ]
}